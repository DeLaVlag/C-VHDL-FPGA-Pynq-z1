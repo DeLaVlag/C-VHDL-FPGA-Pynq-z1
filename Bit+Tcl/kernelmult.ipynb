{
 "cells": [
  {
   "cell_type": "markdown",
   "metadata": {},
   "source": [
    "# Base Video Pipeline"
   ]
  },
  {
   "cell_type": "markdown",
   "metadata": {},
   "source": [
    "Load overlay"
   ]
  },
  {
   "cell_type": "code",
   "execution_count": 13,
   "metadata": {
    "collapsed": true
   },
   "outputs": [],
   "source": [
    "from pynq import Overlay\n",
    "from pynq.lib.video import *\n",
    "from pynq.lib import *\n",
    "\n",
    "base = Overlay('km_inp8b_outp32b_gray2rgba.bit', ignore_version=True)\n",
    "base.download()\n",
    "\n",
    "hdmi_in = base.video.hdmi_in\n",
    "hdmi_out = base.video.hdmi_out\n"
   ]
  },
  {
   "cell_type": "markdown",
   "metadata": {},
   "source": [
    "Configure HDMI"
   ]
  },
  {
   "cell_type": "code",
   "execution_count": 14,
   "metadata": {
    "scrolled": true
   },
   "outputs": [
    {
     "name": "stdout",
     "output_type": "stream",
     "text": [
      "[0.11328125, 0.5859375, 0.296875, 0.5, -0.328125, -0.16796875, -0.078125, -0.41796875, 0.5, -0.0, 0.5, 0.5]\n",
      "VideoMode: width=1280 height=720 bpp=8\n",
      "VideoMode: width=1280 height=720 bpp=8\n",
      "[1.0, -0.0, -0.0, 1.0, -0.0, -0.0, 1.0, -0.0, -0.0, -0.0, -0.0, -0.0]\n"
     ]
    }
   ],
   "source": [
    "hdmi_in.configure(PIXEL_GRAY)\n",
    "hdmi_out.configure(hdmi_in.mode)\n",
    "\n",
    "hdmi_in.start()\n",
    "print(hdmi_in.colorspace)\n",
    "\n",
    "\n",
    "# monitor configuration: 1280*720 @ 60Hz ;32 voor raspbpi configged at 720p 50hz\n",
    "Mode = VideoMode(1280,720,8)\n",
    "print(hdmi_in.mode)\n",
    "print(hdmi_out.mode)\n",
    "hdmi_out = base.video.hdmi_out\n",
    "hdmi_out.configure(Mode, PIXEL_GRAY)\n",
    "hdmi_out.start()\n",
    "\n",
    "hdmi_in.tie(hdmi_out)\n",
    "print(hdmi_out.colorspace)\n",
    "\n"
   ]
  },
  {
   "cell_type": "code",
   "execution_count": null,
   "metadata": {
    "collapsed": true
   },
   "outputs": [],
   "source": [
    "Gepruts met colorspace conversion. Niet uitvoeren voor normaal canny edging"
   ]
  },
  {
   "cell_type": "code",
   "execution_count": 32,
   "metadata": {},
   "outputs": [
    {
     "name": "stdout",
     "output_type": "stream",
     "text": [
      "[-2.0, 1.0, 1.0, 1.0, 1.0, 1.0, 1.0, 1.0, -2.0, -0.0, -0.0, -0.0]\n"
     ]
    }
   ],
   "source": [
    "colorspace_in = base.video.hdmi_in.color_convert\n",
    "colorspace_out = base.video.hdmi_out.color_convert\n",
    "\n",
    "bgr2rgb = [-2, 1, 1,\n",
    "           1, 1, 1, \n",
    "           1, 1, -2,\n",
    "           0, 0, 0]\n",
    "\n",
    "brg2gray = [0.11328125, 0.5859375, 0.296875, 0.5, -0.328125, -0.16796875, -0.078125, -0.41796875, 0.5, -0.0, 0.5, 0.5]\n",
    "\n",
    "colorspace_in.colorspace = brg2gray\n",
    "colorspace_out.colorspace = bgr2rgb\n",
    "\n",
    "colorspace_in.colorspace\n",
    "\n",
    "print(hdmi_out.colorspace)\n"
   ]
  },
  {
   "cell_type": "markdown",
   "metadata": {},
   "source": [
    "Gepruts met pixelpack conversion. Niet uitvoeren voor normaal canny edging"
   ]
  },
  {
   "cell_type": "code",
   "execution_count": 4,
   "metadata": {},
   "outputs": [
    {
     "data": {
      "text/plain": [
       "8"
      ]
     },
     "execution_count": 4,
     "metadata": {},
     "output_type": "execute_result"
    }
   ],
   "source": [
    "pixel_in = base.video.hdmi_in.pixel_pack\n",
    "pixel_out = base.video.hdmi_out.pixel_unpack\n",
    "\n",
    "pixel_in.bits_per_pixel = 8\n",
    "pixel_out.bits_per_pixel = 8\n",
    "\n",
    "pixel_in.bits_per_pixel"
   ]
  },
  {
   "cell_type": "markdown",
   "metadata": {},
   "source": [
    "\n",
    "Write configuration data (for the `hfilt` function)"
   ]
  },
  {
   "cell_type": "code",
   "execution_count": null,
   "metadata": {
    "collapsed": true
   },
   "outputs": [],
   "source": [
    "from pynq.mmio import MMIO\n",
    "msk = MMIO(0x43C7_0000, 0x1000)\n",
    "msk.write(0x10, 0x00)\n",
    "msk.write(0x18, 0xFF)\n",
    "msk.write(0x20, 0x00)\n",
    "#for y in range(0,720):\n",
    "    #msk.write(0x10, y)\n",
    "#    for x in range(0,1280):\n",
    "#        msk.write(0x18, x)\n",
    "#msk.write(0x20, 897987)"
   ]
  },
  {
   "cell_type": "markdown",
   "metadata": {},
   "source": [
    "Don't forget to close the HDMI connection!"
   ]
  },
  {
   "cell_type": "code",
   "execution_count": null,
   "metadata": {
    "collapsed": true
   },
   "outputs": [],
   "source": [
    "hdmi_in.tie(hdmi_out)"
   ]
  },
  {
   "cell_type": "raw",
   "metadata": {
    "collapsed": true
   },
   "source": [
    "hdmi_out.close()\n",
    "hdmi_in.close()\n"
   ]
  },
  {
   "cell_type": "code",
   "execution_count": null,
   "metadata": {
    "collapsed": true
   },
   "outputs": [],
   "source": [
    "hdmi_out.close()\n",
    "hdmi_in.close()\n"
   ]
  },
  {
   "cell_type": "code",
   "execution_count": null,
   "metadata": {
    "collapsed": true
   },
   "outputs": [],
   "source": []
  }
 ],
 "metadata": {
  "kernelspec": {
   "display_name": "Python 3",
   "language": "python",
   "name": "python3"
  },
  "language_info": {
   "codemirror_mode": {
    "name": "ipython",
    "version": 3
   },
   "file_extension": ".py",
   "mimetype": "text/x-python",
   "name": "python",
   "nbconvert_exporter": "python",
   "pygments_lexer": "ipython3",
   "version": "3.6.0"
  }
 },
 "nbformat": 4,
 "nbformat_minor": 2
}
