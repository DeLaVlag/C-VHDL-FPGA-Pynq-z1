{
 "cells": [
  {
   "cell_type": "markdown",
   "metadata": {},
   "source": [
    "# Canny Edge kernel for Video Pipeline"
   ]
  },
  {
   "cell_type": "markdown",
   "metadata": {},
   "source": [
    "Load overlay where input to ip = 8b and output is 32b padded grayscaled pixels. RGBA = GRAY * 0b00010101. Attempts to alter the VDMA to 8 bit output have failed. Relation between pixel depth and resolution is unclear. A bug is whenever some other feature is loaded the screen tends to 'roll'; there is no fixation point. Todo: fix bug, implement changing different kernels on the fly, improve sequential algorithm for comparison, other functions of canny edging. "
   ]
  },
  {
   "cell_type": "code",
   "execution_count": 15,
   "metadata": {},
   "outputs": [],
   "source": [
    "from pynq import Overlay\n",
    "from pynq.lib.video import *\n",
    "from pynq.lib import *\n",
    "\n",
    "base = Overlay('kernelmult_p32b_for_1280x720.bit', ignore_version=True)\n",
    "base.download()\n",
    "\n",
    "hdmi_in = base.video.hdmi_in\n",
    "hdmi_out = base.video.hdmi_out\n"
   ]
  },
  {
   "cell_type": "markdown",
   "metadata": {},
   "source": [
    "Configure HDMI"
   ]
  },
  {
   "cell_type": "code",
   "execution_count": 21,
   "metadata": {
    "scrolled": true
   },
   "outputs": [
    {
     "name": "stdout",
     "output_type": "stream",
     "text": [
      "[-0.0, -0.0, 1.0, -0.0, 1.0, -0.0, 1.0, -0.0, -0.0, -0.0, -0.0, -0.0]\n",
      "VideoMode: width=1280 height=718 bpp=24\n",
      "VideoMode: width=1280 height=720 bpp=8\n",
      "[1.0, -0.0, -0.0, 1.0, -0.0, -0.0, 1.0, -0.0, -0.0, -0.0, -0.0, -0.0]\n"
     ]
    }
   ],
   "source": [
    "Mode = VideoMode(1280,720,24)\n",
    "hdmi_in.configure(PIXEL_RGB)\n",
    "#hdmi_out.configure(hdmi_in.mode)\n",
    "\n",
    "hdmi_in.start()\n",
    "print(hdmi_in.colorspace)\n",
    "\n",
    "\n",
    "# monitor configuration: 1280*720 @ 60Hz ;32 voor raspbpi configged at 720p 50hz\n",
    "Mode2 = VideoMode(1280,720,8)\n",
    "print(hdmi_in.mode)\n",
    "print(hdmi_out.mode)\n",
    "hdmi_out = base.video.hdmi_out\n",
    "hdmi_out.configure(Mode2, PIXEL_GRAY)\n",
    "hdmi_out.start()\n",
    "\n",
    "hdmi_in.tie(hdmi_out)\n",
    "print(hdmi_out.colorspace)\n",
    "\n"
   ]
  },
  {
   "cell_type": "code",
   "execution_count": null,
   "metadata": {
    "collapsed": true
   },
   "outputs": [],
   "source": [
    "Gepruts met colorspace conversion. Niet uitvoeren voor normaal canny edging"
   ]
  },
  {
   "cell_type": "code",
   "execution_count": null,
   "metadata": {
    "collapsed": true
   },
   "outputs": [],
   "source": [
    "colorspace_in = base.video.hdmi_in.color_convert\n",
    "colorspace_out = base.video.hdmi_out.color_convert\n",
    "\n",
    "bgr2rgb = [-1, -1, -1,\n",
    "           -1, 8, -1, \n",
    "           -1, -1, -1,\n",
    "           0, 0, 0]\n",
    "\n",
    "brg2gray = [0.11328125, 0.5859375, 0.296875, 0.5, -0.328125, -0.16796875, -0.078125, -0.41796875, 0.5, -0.0, 0.5, 0.5]\n",
    "\n",
    "colorspace_in.colorspace = brg2gray\n",
    "colorspace_out.colorspace = bgr2rgb\n",
    "\n",
    "colorspace_in.colorspace\n",
    "\n",
    "print(hdmi_out.colorspace)\n"
   ]
  },
  {
   "cell_type": "markdown",
   "metadata": {},
   "source": [
    "Gepruts met pixelpack conversion. Niet uitvoeren voor normaal canny edging"
   ]
  },
  {
   "cell_type": "code",
   "execution_count": null,
   "metadata": {
    "collapsed": true
   },
   "outputs": [],
   "source": [
    "pixel_in = base.video.hdmi_in.pixel_pack\n",
    "pixel_out = base.video.hdmi_out.pixel_unpack\n",
    "\n",
    "pixel_in.bits_per_pixel = 8\n",
    "pixel_out.bits_per_pixel = 8\n",
    "\n",
    "pixel_in.bits_per_pixel"
   ]
  },
  {
   "cell_type": "markdown",
   "metadata": {},
   "source": [
    "\n",
    "Write configuration data (for the `hfilt` function)"
   ]
  },
  {
   "cell_type": "code",
   "execution_count": 11,
   "metadata": {
    "collapsed": true
   },
   "outputs": [],
   "source": [
    "from pynq.mmio import MMIO\n",
    "msk = MMIO(0x43C7_0000, 0x1000)\n",
    "#c0:edge\n",
    "#c1:impulse\n",
    "#c2:blur\n",
    "#c3:sobel\n",
    "#c4:tie\n",
    "msk.write(0x10, 0x0)\n",
    "#normalfactor for pixel division\n",
    "msk.write(0x18, 0x4)\n",
    "#pixelchannelselector\n",
    "#0:01010101, 1:00010101, 2:00000101, 3:00000001, 4:empty\n",
    "msk.write(0x20, 0x0)"
   ]
  },
  {
   "cell_type": "markdown",
   "metadata": {},
   "source": [
    "Don't forget to close the HDMI connection!"
   ]
  },
  {
   "cell_type": "code",
   "execution_count": null,
   "metadata": {
    "collapsed": true
   },
   "outputs": [],
   "source": []
  },
  {
   "cell_type": "code",
   "execution_count": null,
   "metadata": {
    "collapsed": true
   },
   "outputs": [],
   "source": []
  },
  {
   "cell_type": "code",
   "execution_count": null,
   "metadata": {
    "collapsed": true
   },
   "outputs": [],
   "source": [
    "hdmi_in.tie(hdmi_out)"
   ]
  },
  {
   "cell_type": "raw",
   "metadata": {
    "collapsed": true
   },
   "source": [
    "hdmi_out.close()\n",
    "hdmi_in.close()\n"
   ]
  },
  {
   "cell_type": "code",
   "execution_count": 40,
   "metadata": {
    "collapsed": true
   },
   "outputs": [],
   "source": [
    "hdmi_out.close()\n",
    "hdmi_in.close()\n"
   ]
  },
  {
   "cell_type": "code",
   "execution_count": null,
   "metadata": {
    "collapsed": true
   },
   "outputs": [],
   "source": []
  }
 ],
 "metadata": {
  "kernelspec": {
   "display_name": "Python 3",
   "language": "python",
   "name": "python3"
  },
  "language_info": {
   "codemirror_mode": {
    "name": "ipython",
    "version": 3
   },
   "file_extension": ".py",
   "mimetype": "text/x-python",
   "name": "python",
   "nbconvert_exporter": "python",
   "pygments_lexer": "ipython3",
   "version": "3.6.0"
  }
 },
 "nbformat": 4,
 "nbformat_minor": 2
}
