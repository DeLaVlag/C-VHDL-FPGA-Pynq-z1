{
 "cells": [
  {
   "cell_type": "markdown",
   "metadata": {},
   "source": [
    "# Base Video Pipeline"
   ]
  },
  {
   "cell_type": "code",
   "execution_count": null,
   "metadata": {},
   "outputs": [],
   "source": [
    "class HDMI_Helper():\n",
    "    hdmi_in = 0\n",
    "    hdmi_out = 0\n",
    "    dbase = 0\n",
    "    blLEDs = False\n",
    "    \n",
    "    def __init__(self,base):\n",
    "        self.dbase = base\n",
    "        self.hdmi_in = base.video.hdmi_in\n",
    "        self.hdmi_out = base.video.hdmi_out\n",
    "        self.hdmi_in.configure(PIXEL_RGBA)\n",
    "        self.hdmi_out.configure(self.hdmi_in.mode, PIXEL_RGBA)\n",
    "\n",
    "    def normalHDMI(self,blLEDs=False):\n",
    "        self.hdmi_in.start()\n",
    "        self.hdmi_out.start()\n",
    "        self.hdmi_in.tie(self.hdmi_out)\n",
    "        if blLEDs:\n",
    "            self.dbase.leds[0].write(True)\n",
    "            self.dbase.leds[1].write(True)\n",
    "\n",
    "    def closeHDMI(self,blLEDs=False):\n",
    "        self.hdmi_out.close()\n",
    "        self.hdmi_in.close()\n",
    "        if blLEDs:\n",
    "            self.dbase.leds[2].write(True)\n",
    "            self.dbase.leds[3].write(True)"
   ]
  },
  {
   "cell_type": "code",
   "execution_count": null,
   "metadata": {
    "collapsed": true
   },
   "outputs": [],
   "source": [
    "from pynq.overlays.base import BaseOverlay\n",
    "from pynq.lib.video import *\n",
    "base = BaseOverlay(\"base.bit\")\n",
    "hh = HDMI_Helper(base)"
   ]
  },
  {
   "cell_type": "code",
   "execution_count": null,
   "metadata": {
    "collapsed": true
   },
   "outputs": [],
   "source": [
    "hh.normalHDMI(True)"
   ]
  },
  {
   "cell_type": "code",
   "execution_count": null,
   "metadata": {
    "collapsed": true
   },
   "outputs": [],
   "source": [
    "hh.closeHDMI(True)"
   ]
  },
  {
   "cell_type": "markdown",
   "metadata": {},
   "source": [
    "Load overlay"
   ]
  },
  {
   "cell_type": "code",
   "execution_count": null,
   "metadata": {},
   "outputs": [],
   "source": [
    "from pynq import Overlay\n",
    "from pynq.lib.video import *\n",
    "base = Overlay('system_wrapper.bit', ignore_version=True)\n",
    "base.download()\n",
    "hh = HDMI_Helper(base)"
   ]
  },
  {
   "cell_type": "code",
   "execution_count": null,
   "metadata": {},
   "outputs": [],
   "source": [
    "hh.normalHDMI()"
   ]
  },
  {
   "cell_type": "code",
   "execution_count": null,
   "metadata": {
    "collapsed": true
   },
   "outputs": [],
   "source": [
    "from pynq.mmio import MMIO\n",
    "msk = MMIO(0x43C7_0000, 0x1000)\n",
    "msk.write(0x10, 0x00)\n",
    "msk.write(0x18, 0xFF)\n",
    "msk.write(0x20, 0x00)"
   ]
  },
  {
   "cell_type": "code",
   "execution_count": null,
   "metadata": {},
   "outputs": [],
   "source": [
    "hh.closeHDMI()"
   ]
  }
 ],
 "metadata": {
  "kernelspec": {
   "display_name": "Python 3",
   "language": "python",
   "name": "python3"
  },
  "language_info": {
   "codemirror_mode": {
    "name": "ipython",
    "version": 3
   },
   "file_extension": ".py",
   "mimetype": "text/x-python",
   "name": "python",
   "nbconvert_exporter": "python",
   "pygments_lexer": "ipython3",
   "version": "3.6.0"
  }
 },
 "nbformat": 4,
 "nbformat_minor": 2
}
